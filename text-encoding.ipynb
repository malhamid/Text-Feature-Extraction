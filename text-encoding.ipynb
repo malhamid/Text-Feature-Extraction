{
 "cells": [
  {
   "cell_type": "markdown",
   "metadata": {},
   "source": [
    "# Text Encoding"
   ]
  },
  {
   "cell_type": "raw",
   "metadata": {},
   "source": [
    "We will be using two libraries for prepocessing the text: Keras and NLTK. Please note NLTK and Spacy are two libraries specialized in natural language processing. We will use them to remove stop words, stemming the tokens along with others. "
   ]
  },
  {
   "cell_type": "code",
   "execution_count": 1,
   "metadata": {},
   "outputs": [
    {
     "name": "stderr",
     "output_type": "stream",
     "text": [
      "Using TensorFlow backend.\n"
     ]
    }
   ],
   "source": [
    "# Importing Keras library \n",
    "from keras.preprocessing.text import text_to_word_sequence as keras_text_to_word_sequence\n",
    "\n",
    "# Importing nltk library\n",
    "import nltk\n",
    "from nltk.tokenize import word_tokenize as nltk_work_tokenize\n",
    "from nltk.corpus import stopwords\n",
    "from nltk.stem.porter import PorterStemmer\n",
    "\n",
    "# Importing some other supporting libraries \n",
    "import pandas as pd"
   ]
  },
  {
   "cell_type": "code",
   "execution_count": 2,
   "metadata": {},
   "outputs": [],
   "source": [
    "# This is the next we will use for this small encoding experiment \n",
    "corpus = [\n",
    "    \"The number of trees in the world, according to a 2015 estimate, is 3.04 trillion.\",\n",
    "    \"46% of the trees in the world are in the tropics or sub-tropics.\",\n",
    "    \"20% of the trees in the world are in the temperate zones.\",\n",
    "    \"24% of threes in the world are in the coniferous boreal forests.\",\n",
    "    \"There about 15 billion trees are cut down annually.\",\n",
    "    \"There about 5 billion trees are planted annually.\",\n",
    "]"
   ]
  },
  {
   "cell_type": "markdown",
   "metadata": {},
   "source": [
    "# Feature Extractions"
   ]
  },
  {
   "cell_type": "raw",
   "metadata": {},
   "source": [
    "The text preprocessing has five steps:\n",
    "Step 1. Tokenize the datasets seperating words in each sentence. \n",
    "Step 2. Remove the stop words.\n",
    "Step 3. Stemming the tokens, bringing each word to its root and in lower letters. \n",
    "Step 4. Remove punctuations, special characters, and words which have length equal to 1. "
   ]
  },
  {
   "cell_type": "markdown",
   "metadata": {},
   "source": [
    "## <font color='blue'> Step 1. Tokenize the datasets seperating words in each sentence. </font>"
   ]
  },
  {
   "cell_type": "code",
   "execution_count": 3,
   "metadata": {},
   "outputs": [
    {
     "name": "stdout",
     "output_type": "stream",
     "text": [
      "[['the', 'number', 'of', 'trees', 'in', 'the', 'world', 'according', 'to', 'a', '2015', 'estimate', 'is', '3', '04', 'trillion'], ['46', 'of', 'the', 'trees', 'in', 'the', 'world', 'are', 'in', 'the', 'tropics', 'or', 'sub', 'tropics'], ['20', 'of', 'the', 'trees', 'in', 'the', 'world', 'are', 'in', 'the', 'temperate', 'zones'], ['24', 'of', 'threes', 'in', 'the', 'world', 'are', 'in', 'the', 'coniferous', 'boreal', 'forests'], ['there', 'about', '15', 'billion', 'trees', 'are', 'cut', 'down', 'annually'], ['there', 'about', '5', 'billion', 'trees', 'are', 'planted', 'annually']]\n"
     ]
    }
   ],
   "source": [
    "# Extracting the tokens using Keras\n",
    "ks_tokens = []\n",
    "for text in corpus: \n",
    "    ks_tokens.append(keras_text_to_word_sequence(text))\n",
    "print(ks_tokens)"
   ]
  },
  {
   "cell_type": "code",
   "execution_count": 4,
   "metadata": {},
   "outputs": [
    {
     "data": {
      "text/plain": [
       "[['the',\n",
       "  'number',\n",
       "  'of',\n",
       "  'trees',\n",
       "  'in',\n",
       "  'the',\n",
       "  'world',\n",
       "  'according',\n",
       "  'to',\n",
       "  'a',\n",
       "  '2015',\n",
       "  'estimate',\n",
       "  'is',\n",
       "  '3',\n",
       "  '04',\n",
       "  'trillion'],\n",
       " ['46',\n",
       "  'of',\n",
       "  'the',\n",
       "  'trees',\n",
       "  'in',\n",
       "  'the',\n",
       "  'world',\n",
       "  'are',\n",
       "  'in',\n",
       "  'the',\n",
       "  'tropics',\n",
       "  'or',\n",
       "  'sub',\n",
       "  'tropics'],\n",
       " ['20',\n",
       "  'of',\n",
       "  'the',\n",
       "  'trees',\n",
       "  'in',\n",
       "  'the',\n",
       "  'world',\n",
       "  'are',\n",
       "  'in',\n",
       "  'the',\n",
       "  'temperate',\n",
       "  'zones'],\n",
       " ['24',\n",
       "  'of',\n",
       "  'threes',\n",
       "  'in',\n",
       "  'the',\n",
       "  'world',\n",
       "  'are',\n",
       "  'in',\n",
       "  'the',\n",
       "  'coniferous',\n",
       "  'boreal',\n",
       "  'forests'],\n",
       " ['there',\n",
       "  'about',\n",
       "  '15',\n",
       "  'billion',\n",
       "  'trees',\n",
       "  'are',\n",
       "  'cut',\n",
       "  'down',\n",
       "  'annually'],\n",
       " ['there', 'about', '5', 'billion', 'trees', 'are', 'planted', 'annually']]"
      ]
     },
     "execution_count": 4,
     "metadata": {},
     "output_type": "execute_result"
    }
   ],
   "source": [
    "ks_tokens"
   ]
  },
  {
   "cell_type": "code",
   "execution_count": 108,
   "metadata": {},
   "outputs": [
    {
     "name": "stdout",
     "output_type": "stream",
     "text": [
      "[['The', 'number', 'of', 'trees', 'in', 'the', 'world', ',', 'according', 'to', 'a', '2015', 'estimate', ',', 'is', '3.04', 'trillion', '.'], ['46', '%', 'of', 'the', 'trees', 'in', 'the', 'world', 'are', 'in', 'the', 'tropics', 'or', 'sub-tropics', '.'], ['20', '%', 'of', 'the', 'trees', 'in', 'the', 'world', 'are', 'in', 'the', 'temperate', 'zones', '.'], ['24', '%', 'of', 'threes', 'in', 'the', 'world', 'are', 'in', 'the', 'coniferous', 'boreal', 'forests', '.'], ['There', 'about', '15', 'billion', 'trees', 'are', 'cut', 'down', 'annually', '.'], ['There', 'about', '5', 'billion', 'trees', 'are', 'planted', 'annually', '.']]\n"
     ]
    }
   ],
   "source": [
    "# Extracting the tokens using NLTK\n",
    "# We need to serialize the text to splits the works into tokens\n",
    "nltk_tokens = [] \n",
    "for text in corpus:\n",
    "    pre_text = pd.Series(text).str.cat(sep=' ')\n",
    "    nltk_tokens.append(nltk_work_tokenize(pre_text))\n",
    "print(nltk_tokens)"
   ]
  },
  {
   "cell_type": "markdown",
   "metadata": {},
   "source": [
    "## <font color='blue'> Step 2. Remove the stop words. </font>"
   ]
  },
  {
   "cell_type": "code",
   "execution_count": null,
   "metadata": {},
   "outputs": [],
   "source": [
    "# Retriving the stop words from the library \n",
    "stop_words = set(stopwords.words('english'))\n",
    "# Examples of some stop words\n",
    "list(stop_words)[0:10]"
   ]
  },
  {
   "cell_type": "code",
   "execution_count": null,
   "metadata": {},
   "outputs": [],
   "source": [
    "for i in range(0, len(ks_tokens)): \n",
    "    ks_tokens[i] = [w for w in pd.Series(ks_tokens[i]) if not w in stop_words]\n",
    "ks_tokens"
   ]
  },
  {
   "cell_type": "code",
   "execution_count": null,
   "metadata": {},
   "outputs": [],
   "source": [
    "# Unlike the list generated by Keras libary, here we have to make sure all tokens are either capitalized or in lower case.\n",
    "for i in range(0, len(nltk_tokens)): \n",
    "    nltk_tokens[i] = [tok.lower() for tok in nltk_tokens[i]]\n",
    "    nltk_tokens[i] = [w for w in nltk_tokens[i] if not w in stop_words]\n",
    "nltk_tokens"
   ]
  },
  {
   "cell_type": "markdown",
   "metadata": {},
   "source": [
    "## <font color='blue'> Step 3. Stemming the tokens, bringing each word to its root. </font>"
   ]
  },
  {
   "cell_type": "code",
   "execution_count": null,
   "metadata": {},
   "outputs": [],
   "source": [
    "# We will use Porter algorithm to reduce the words. Porter has 5 phases of word reductions: \n",
    "porter = PorterStemmer()\n",
    "print(porter.stem('Eating'))\n",
    "print(porter.stem('running'))"
   ]
  },
  {
   "cell_type": "code",
   "execution_count": null,
   "metadata": {},
   "outputs": [],
   "source": [
    "for tokens in ks_tokens:\n",
    "    for i in range(0, len(tokens)):    \n",
    "        tokens[i] = porter.stem(tokens[i])\n",
    "print(ks_tokens)"
   ]
  },
  {
   "cell_type": "code",
   "execution_count": null,
   "metadata": {},
   "outputs": [],
   "source": [
    "for tokens in nltk_tokens:\n",
    "    for i in range (0,len(tokens)):    \n",
    "        tokens[i] = porter.stem(tokens[i])\n",
    "print(nltk_tokens)"
   ]
  },
  {
   "cell_type": "markdown",
   "metadata": {},
   "source": [
    "## <font color='blue'> Step 4. Remove punctuations, special characters, and words which have length equal to 1. </font>"
   ]
  },
  {
   "cell_type": "code",
   "execution_count": null,
   "metadata": {},
   "outputs": [],
   "source": [
    "for i in range(0, len(ks_tokens)):\n",
    "    new_ks_tokens = []\n",
    "    for tok in ks_tokens[i]: \n",
    "        tok = tok.translate(str.maketrans('', '', string.punctuation))\n",
    "        if tok != \"\" and len(tok) > 1 and (tok.isnumeric()==False):\n",
    "            new_ks_tokens.append(tok)\n",
    "    ks_tokens[i] = new_ks_tokens\n",
    "print(ks_tokens)"
   ]
  },
  {
   "cell_type": "code",
   "execution_count": null,
   "metadata": {},
   "outputs": [],
   "source": [
    "for sentences in ks_tokens: \n",
    "    print(sentences)"
   ]
  },
  {
   "cell_type": "markdown",
   "metadata": {},
   "source": [
    "# Text Encoding"
   ]
  },
  {
   "cell_type": "raw",
   "metadata": {},
   "source": [
    "The previous steps has many nexted loops and can easily be very expensive to compute if the number of setences in our corpus grow significantly. Hence, we will repeat the previous steps with few lines of code using Keras"
   ]
  },
  {
   "cell_type": "code",
   "execution_count": 6,
   "metadata": {},
   "outputs": [],
   "source": [
    "from keras.preprocessing.text import Tokenizer"
   ]
  },
  {
   "cell_type": "code",
   "execution_count": 7,
   "metadata": {},
   "outputs": [],
   "source": [
    "# First step is to get an instance of the tokenizer class\n",
    "tok = Tokenizer()\n",
    "# Keras can fit our corpus in a single call\n",
    "tok.fit_on_texts(corpus)"
   ]
  },
  {
   "cell_type": "code",
   "execution_count": 8,
   "metadata": {},
   "outputs": [
    {
     "name": "stdout",
     "output_type": "stream",
     "text": [
      "The frequency of each word in the corpus:\n",
      "OrderedDict([('the', 10), ('number', 1), ('of', 4), ('trees', 5), ('in', 7), ('world', 4), ('according', 1), ('to', 1), ('a', 1), ('2015', 1), ('estimate', 1), ('is', 1), ('3', 1), ('04', 1), ('trillion', 1), ('46', 1), ('are', 5), ('tropics', 2), ('or', 1), ('sub', 1), ('20', 1), ('temperate', 1), ('zones', 1), ('24', 1), ('threes', 1), ('coniferous', 1), ('boreal', 1), ('forests', 1), ('there', 2), ('about', 2), ('15', 1), ('billion', 2), ('cut', 1), ('down', 1), ('annually', 2), ('5', 1), ('planted', 1)])\n"
     ]
    }
   ],
   "source": [
    "# Let's explore what is the content of the tokenized corpus\n",
    "print('The frequency of each word in the corpus:')\n",
    "print(tok.word_counts)"
   ]
  },
  {
   "cell_type": "code",
   "execution_count": 9,
   "metadata": {},
   "outputs": [
    {
     "name": "stdout",
     "output_type": "stream",
     "text": [
      "The number of sentences in the corpus:\n",
      "6\n"
     ]
    }
   ],
   "source": [
    "print('The number of sentences in the corpus:')\n",
    "print(tok.document_count)"
   ]
  },
  {
   "cell_type": "code",
   "execution_count": 10,
   "metadata": {},
   "outputs": [
    {
     "data": {
      "text/plain": [
       "['The number of trees in the world, according to a 2015 estimate, is 3.04 trillion.',\n",
       " '46% of the trees in the world are in the tropics or sub-tropics.',\n",
       " '20% of the trees in the world are in the temperate zones.',\n",
       " '24% of threes in the world are in the coniferous boreal forests.',\n",
       " 'There about 15 billion trees are cut down annually.',\n",
       " 'There about 5 billion trees are planted annually.']"
      ]
     },
     "execution_count": 10,
     "metadata": {},
     "output_type": "execute_result"
    }
   ],
   "source": [
    "corpus"
   ]
  },
  {
   "cell_type": "code",
   "execution_count": 11,
   "metadata": {},
   "outputs": [
    {
     "name": "stdout",
     "output_type": "stream",
     "text": [
      "The index of each extracted tokens:\n",
      "{'the': 1, 'in': 2, 'trees': 3, 'are': 4, 'of': 5, 'world': 6, 'tropics': 7, 'there': 8, 'about': 9, 'billion': 10, 'annually': 11, 'number': 12, 'according': 13, 'to': 14, 'a': 15, '2015': 16, 'estimate': 17, 'is': 18, '3': 19, '04': 20, 'trillion': 21, '46': 22, 'or': 23, 'sub': 24, '20': 25, 'temperate': 26, 'zones': 27, '24': 28, 'threes': 29, 'coniferous': 30, 'boreal': 31, 'forests': 32, '15': 33, 'cut': 34, 'down': 35, '5': 36, 'planted': 37}\n"
     ]
    }
   ],
   "source": [
    "print('The index of each extracted tokens:')\n",
    "print(tok.word_index)"
   ]
  },
  {
   "cell_type": "code",
   "execution_count": 12,
   "metadata": {},
   "outputs": [
    {
     "name": "stdout",
     "output_type": "stream",
     "text": [
      "The appearnce of each words in sentences:\n",
      "defaultdict(<class 'int'>, {'number': 1, '2015': 1, '04': 1, 'to': 1, 'is': 1, 'of': 4, 'a': 1, 'estimate': 1, '3': 1, 'in': 4, 'world': 4, 'trillion': 1, 'according': 1, 'trees': 5, 'the': 4, 'are': 5, 'or': 1, '46': 1, 'sub': 1, 'tropics': 1, '20': 1, 'zones': 1, 'temperate': 1, '24': 1, 'boreal': 1, 'coniferous': 1, 'forests': 1, 'threes': 1, 'annually': 2, 'down': 1, '15': 1, 'there': 2, 'cut': 1, 'about': 2, 'billion': 2, 'planted': 1, '5': 1})\n"
     ]
    }
   ],
   "source": [
    "print('The appearnce of each words in sentences:')\n",
    "print(tok.word_docs)"
   ]
  },
  {
   "cell_type": "code",
   "execution_count": 13,
   "metadata": {},
   "outputs": [
    {
     "data": {
      "text/plain": [
       "{'the': 1,\n",
       " 'in': 2,\n",
       " 'trees': 3,\n",
       " 'are': 4,\n",
       " 'of': 5,\n",
       " 'world': 6,\n",
       " 'tropics': 7,\n",
       " 'there': 8,\n",
       " 'about': 9,\n",
       " 'billion': 10,\n",
       " 'annually': 11,\n",
       " 'number': 12,\n",
       " 'according': 13,\n",
       " 'to': 14,\n",
       " 'a': 15,\n",
       " '2015': 16,\n",
       " 'estimate': 17,\n",
       " 'is': 18,\n",
       " '3': 19,\n",
       " '04': 20,\n",
       " 'trillion': 21,\n",
       " '46': 22,\n",
       " 'or': 23,\n",
       " 'sub': 24,\n",
       " '20': 25,\n",
       " 'temperate': 26,\n",
       " 'zones': 27,\n",
       " '24': 28,\n",
       " 'threes': 29,\n",
       " 'coniferous': 30,\n",
       " 'boreal': 31,\n",
       " 'forests': 32,\n",
       " '15': 33,\n",
       " 'cut': 34,\n",
       " 'down': 35,\n",
       " '5': 36,\n",
       " 'planted': 37}"
      ]
     },
     "execution_count": 13,
     "metadata": {},
     "output_type": "execute_result"
    }
   ],
   "source": [
    "tok.word_index"
   ]
  },
  {
   "cell_type": "markdown",
   "metadata": {},
   "source": [
    "### <font color='green'> Approach #1: One Hot Encoding </font>"
   ]
  },
  {
   "cell_type": "code",
   "execution_count": 19,
   "metadata": {},
   "outputs": [
    {
     "data": {
      "text/plain": [
       "{'the': 1,\n",
       " 'in': 2,\n",
       " 'trees': 3,\n",
       " 'are': 4,\n",
       " 'of': 5,\n",
       " 'world': 6,\n",
       " 'tropics': 7,\n",
       " 'there': 8,\n",
       " 'about': 9,\n",
       " 'billion': 10,\n",
       " 'annually': 11,\n",
       " 'number': 12,\n",
       " 'according': 13,\n",
       " 'to': 14,\n",
       " 'a': 15,\n",
       " '2015': 16,\n",
       " 'estimate': 17,\n",
       " 'is': 18,\n",
       " '3': 19,\n",
       " '04': 20,\n",
       " 'trillion': 21,\n",
       " '46': 22,\n",
       " 'or': 23,\n",
       " 'sub': 24,\n",
       " '20': 25,\n",
       " 'temperate': 26,\n",
       " 'zones': 27,\n",
       " '24': 28,\n",
       " 'threes': 29,\n",
       " 'coniferous': 30,\n",
       " 'boreal': 31,\n",
       " 'forests': 32,\n",
       " '15': 33,\n",
       " 'cut': 34,\n",
       " 'down': 35,\n",
       " '5': 36,\n",
       " 'planted': 37}"
      ]
     },
     "execution_count": 19,
     "metadata": {},
     "output_type": "execute_result"
    }
   ],
   "source": [
    "tok.word_index"
   ]
  },
  {
   "cell_type": "code",
   "execution_count": 14,
   "metadata": {},
   "outputs": [
    {
     "name": "stdout",
     "output_type": "stream",
     "text": [
      "[[0. 1. 1. 1. 0. 1. 1. 0. 0. 0. 0. 0. 1. 1. 1. 1. 1. 1. 1. 1. 1. 1. 0. 0.\n",
      "  0. 0. 0. 0. 0. 0. 0. 0. 0. 0. 0. 0. 0. 0.]\n",
      " [0. 1. 1. 1. 1. 1. 1. 1. 0. 0. 0. 0. 0. 0. 0. 0. 0. 0. 0. 0. 0. 0. 1. 1.\n",
      "  1. 0. 0. 0. 0. 0. 0. 0. 0. 0. 0. 0. 0. 0.]\n",
      " [0. 1. 1. 1. 1. 1. 1. 0. 0. 0. 0. 0. 0. 0. 0. 0. 0. 0. 0. 0. 0. 0. 0. 0.\n",
      "  0. 1. 1. 1. 0. 0. 0. 0. 0. 0. 0. 0. 0. 0.]\n",
      " [0. 1. 1. 0. 1. 1. 1. 0. 0. 0. 0. 0. 0. 0. 0. 0. 0. 0. 0. 0. 0. 0. 0. 0.\n",
      "  0. 0. 0. 0. 1. 1. 1. 1. 1. 0. 0. 0. 0. 0.]\n",
      " [0. 0. 0. 1. 1. 0. 0. 0. 1. 1. 1. 1. 0. 0. 0. 0. 0. 0. 0. 0. 0. 0. 0. 0.\n",
      "  0. 0. 0. 0. 0. 0. 0. 0. 0. 1. 1. 1. 0. 0.]\n",
      " [0. 0. 0. 1. 1. 0. 0. 0. 1. 1. 1. 1. 0. 0. 0. 0. 0. 0. 0. 0. 0. 0. 0. 0.\n",
      "  0. 0. 0. 0. 0. 0. 0. 0. 0. 0. 0. 0. 1. 1.]]\n"
     ]
    }
   ],
   "source": [
    "print(tok.texts_to_matrix(corpus, mode='binary'))"
   ]
  },
  {
   "cell_type": "markdown",
   "metadata": {},
   "source": [
    "### <font color='green'> Approach #2: Frequency Encoding </font>"
   ]
  },
  {
   "cell_type": "code",
   "execution_count": 15,
   "metadata": {},
   "outputs": [
    {
     "name": "stdout",
     "output_type": "stream",
     "text": [
      "[[0. 2. 1. 1. 0. 1. 1. 0. 0. 0. 0. 0. 1. 1. 1. 1. 1. 1. 1. 1. 1. 1. 0. 0.\n",
      "  0. 0. 0. 0. 0. 0. 0. 0. 0. 0. 0. 0. 0. 0.]\n",
      " [0. 3. 2. 1. 1. 1. 1. 2. 0. 0. 0. 0. 0. 0. 0. 0. 0. 0. 0. 0. 0. 0. 1. 1.\n",
      "  1. 0. 0. 0. 0. 0. 0. 0. 0. 0. 0. 0. 0. 0.]\n",
      " [0. 3. 2. 1. 1. 1. 1. 0. 0. 0. 0. 0. 0. 0. 0. 0. 0. 0. 0. 0. 0. 0. 0. 0.\n",
      "  0. 1. 1. 1. 0. 0. 0. 0. 0. 0. 0. 0. 0. 0.]\n",
      " [0. 2. 2. 0. 1. 1. 1. 0. 0. 0. 0. 0. 0. 0. 0. 0. 0. 0. 0. 0. 0. 0. 0. 0.\n",
      "  0. 0. 0. 0. 1. 1. 1. 1. 1. 0. 0. 0. 0. 0.]\n",
      " [0. 0. 0. 1. 1. 0. 0. 0. 1. 1. 1. 1. 0. 0. 0. 0. 0. 0. 0. 0. 0. 0. 0. 0.\n",
      "  0. 0. 0. 0. 0. 0. 0. 0. 0. 1. 1. 1. 0. 0.]\n",
      " [0. 0. 0. 1. 1. 0. 0. 0. 1. 1. 1. 1. 0. 0. 0. 0. 0. 0. 0. 0. 0. 0. 0. 0.\n",
      "  0. 0. 0. 0. 0. 0. 0. 0. 0. 0. 0. 0. 1. 1.]]\n"
     ]
    }
   ],
   "source": [
    "# Encoding the frequency of each word in the sentence\n",
    "print(tok.texts_to_matrix(corpus, mode='count'))"
   ]
  },
  {
   "cell_type": "markdown",
   "metadata": {},
   "source": [
    "### <font color='green'> Approach #3: TF-IDF </font>"
   ]
  },
  {
   "cell_type": "code",
   "execution_count": 20,
   "metadata": {},
   "outputs": [
    {
     "name": "stdout",
     "output_type": "stream",
     "text": [
      "[[0.         1.33497436 0.78845736 0.69314718 0.         0.78845736\n",
      "  0.78845736 0.         0.         0.         0.         0.\n",
      "  1.38629436 1.38629436 1.38629436 1.38629436 1.38629436 1.38629436\n",
      "  1.38629436 1.38629436 1.38629436 1.38629436 0.         0.\n",
      "  0.         0.         0.         0.         0.         0.\n",
      "  0.         0.         0.         0.         0.         0.\n",
      "  0.         0.        ]\n",
      " [0.         1.65466631 1.33497436 0.69314718 0.69314718 0.78845736\n",
      "  0.78845736 2.34720039 0.         0.         0.         0.\n",
      "  0.         0.         0.         0.         0.         0.\n",
      "  0.         0.         0.         0.         1.38629436 1.38629436\n",
      "  1.38629436 0.         0.         0.         0.         0.\n",
      "  0.         0.         0.         0.         0.         0.\n",
      "  0.         0.        ]\n",
      " [0.         1.65466631 1.33497436 0.69314718 0.69314718 0.78845736\n",
      "  0.78845736 0.         0.         0.         0.         0.\n",
      "  0.         0.         0.         0.         0.         0.\n",
      "  0.         0.         0.         0.         0.         0.\n",
      "  0.         1.38629436 1.38629436 1.38629436 0.         0.\n",
      "  0.         0.         0.         0.         0.         0.\n",
      "  0.         0.        ]\n",
      " [0.         1.33497436 1.33497436 0.         0.69314718 0.78845736\n",
      "  0.78845736 0.         0.         0.         0.         0.\n",
      "  0.         0.         0.         0.         0.         0.\n",
      "  0.         0.         0.         0.         0.         0.\n",
      "  0.         0.         0.         0.         1.38629436 1.38629436\n",
      "  1.38629436 1.38629436 1.38629436 0.         0.         0.\n",
      "  0.         0.        ]\n",
      " [0.         0.         0.         0.69314718 0.69314718 0.\n",
      "  0.         0.         1.09861229 1.09861229 1.09861229 1.09861229\n",
      "  0.         0.         0.         0.         0.         0.\n",
      "  0.         0.         0.         0.         0.         0.\n",
      "  0.         0.         0.         0.         0.         0.\n",
      "  0.         0.         0.         1.38629436 1.38629436 1.38629436\n",
      "  0.         0.        ]\n",
      " [0.         0.         0.         0.69314718 0.69314718 0.\n",
      "  0.         0.         1.09861229 1.09861229 1.09861229 1.09861229\n",
      "  0.         0.         0.         0.         0.         0.\n",
      "  0.         0.         0.         0.         0.         0.\n",
      "  0.         0.         0.         0.         0.         0.\n",
      "  0.         0.         0.         0.         0.         0.\n",
      "  1.38629436 1.38629436]]\n"
     ]
    }
   ],
   "source": [
    "# Encoding the frequency of each word in the sentence (TFIDF)\n",
    "print(tok.texts_to_matrix(corpus, mode='tfidf'))"
   ]
  },
  {
   "cell_type": "code",
   "execution_count": 16,
   "metadata": {},
   "outputs": [
    {
     "name": "stdout",
     "output_type": "stream",
     "text": [
      "[[0.         0.125      0.0625     0.0625     0.         0.0625\n",
      "  0.0625     0.         0.         0.         0.         0.\n",
      "  0.0625     0.0625     0.0625     0.0625     0.0625     0.0625\n",
      "  0.0625     0.0625     0.0625     0.0625     0.         0.\n",
      "  0.         0.         0.         0.         0.         0.\n",
      "  0.         0.         0.         0.         0.         0.\n",
      "  0.         0.        ]\n",
      " [0.         0.21428571 0.14285714 0.07142857 0.07142857 0.07142857\n",
      "  0.07142857 0.14285714 0.         0.         0.         0.\n",
      "  0.         0.         0.         0.         0.         0.\n",
      "  0.         0.         0.         0.         0.07142857 0.07142857\n",
      "  0.07142857 0.         0.         0.         0.         0.\n",
      "  0.         0.         0.         0.         0.         0.\n",
      "  0.         0.        ]\n",
      " [0.         0.25       0.16666667 0.08333333 0.08333333 0.08333333\n",
      "  0.08333333 0.         0.         0.         0.         0.\n",
      "  0.         0.         0.         0.         0.         0.\n",
      "  0.         0.         0.         0.         0.         0.\n",
      "  0.         0.08333333 0.08333333 0.08333333 0.         0.\n",
      "  0.         0.         0.         0.         0.         0.\n",
      "  0.         0.        ]\n",
      " [0.         0.16666667 0.16666667 0.         0.08333333 0.08333333\n",
      "  0.08333333 0.         0.         0.         0.         0.\n",
      "  0.         0.         0.         0.         0.         0.\n",
      "  0.         0.         0.         0.         0.         0.\n",
      "  0.         0.         0.         0.         0.08333333 0.08333333\n",
      "  0.08333333 0.08333333 0.08333333 0.         0.         0.\n",
      "  0.         0.        ]\n",
      " [0.         0.         0.         0.11111111 0.11111111 0.\n",
      "  0.         0.         0.11111111 0.11111111 0.11111111 0.11111111\n",
      "  0.         0.         0.         0.         0.         0.\n",
      "  0.         0.         0.         0.         0.         0.\n",
      "  0.         0.         0.         0.         0.         0.\n",
      "  0.         0.         0.         0.11111111 0.11111111 0.11111111\n",
      "  0.         0.        ]\n",
      " [0.         0.         0.         0.125      0.125      0.\n",
      "  0.         0.         0.125      0.125      0.125      0.125\n",
      "  0.         0.         0.         0.         0.         0.\n",
      "  0.         0.         0.         0.         0.         0.\n",
      "  0.         0.         0.         0.         0.         0.\n",
      "  0.         0.         0.         0.         0.         0.\n",
      "  0.125      0.125     ]]\n"
     ]
    }
   ],
   "source": [
    "# Encoding the frequency of each word in the sentence\n",
    "print(tok.texts_to_matrix(corpus, mode='freq'))"
   ]
  },
  {
   "cell_type": "markdown",
   "metadata": {},
   "source": [
    "# Word2Vec"
   ]
  },
  {
   "cell_type": "code",
   "execution_count": 17,
   "metadata": {},
   "outputs": [],
   "source": [
    "import gensim \n",
    "from gensim.models import Word2Vec\n",
    "\n",
    "# Building a word2vec model typically is very expensive, so we need to keep in mind the multiprocessing \n",
    "# approach option\n",
    "import multiprocessing\n",
    "cores = multiprocessing.cpu_count()"
   ]
  },
  {
   "cell_type": "code",
   "execution_count": 21,
   "metadata": {},
   "outputs": [
    {
     "name": "stderr",
     "output_type": "stream",
     "text": [
      "/Users/mohammedalhamid/anaconda3/lib/python3.6/site-packages/gensim/models/base_any2vec.py:743: UserWarning: C extension not loaded, training will be slow. Install a C compiler and reinstall gensim for fast training.\n",
      "  \"C extension not loaded, training will be slow. \"\n"
     ]
    }
   ],
   "source": [
    "# Parameters\n",
    "# size (int, optional) – Dimensionality of the word vectors.\n",
    "# window (int, optional) – Maximum distance between the current and predicted word within a sentence.\n",
    "# min_count (int, optional) – Ignores all words with total frequency lower than this.\n",
    "# workers (int, optional) – Use these many worker threads to train the model (=faster training with multicore machines).\n",
    "model = gensim.models.Word2Vec (ks_tokens, window=10, size=150, min_count=1,workers=10)"
   ]
  },
  {
   "cell_type": "code",
   "execution_count": 22,
   "metadata": {},
   "outputs": [
    {
     "data": {
      "text/plain": [
       "{'the': <gensim.models.keyedvectors.Vocab at 0x7f7ef55cdc88>,\n",
       " 'number': <gensim.models.keyedvectors.Vocab at 0x7f7ef55cd9e8>,\n",
       " 'of': <gensim.models.keyedvectors.Vocab at 0x7f7ef55cda20>,\n",
       " 'trees': <gensim.models.keyedvectors.Vocab at 0x7f7ef55cdac8>,\n",
       " 'in': <gensim.models.keyedvectors.Vocab at 0x7f7ef55cdba8>,\n",
       " 'world': <gensim.models.keyedvectors.Vocab at 0x7f7ef5351e10>,\n",
       " 'according': <gensim.models.keyedvectors.Vocab at 0x7f7ef5351dd8>,\n",
       " 'to': <gensim.models.keyedvectors.Vocab at 0x7f7ef5351eb8>,\n",
       " 'a': <gensim.models.keyedvectors.Vocab at 0x7f7ef5351b38>,\n",
       " '2015': <gensim.models.keyedvectors.Vocab at 0x7f7ef5351e80>,\n",
       " 'estimate': <gensim.models.keyedvectors.Vocab at 0x7f7ef5351d30>,\n",
       " 'is': <gensim.models.keyedvectors.Vocab at 0x7f7ef5351ba8>,\n",
       " '3': <gensim.models.keyedvectors.Vocab at 0x7f7ef5351c18>,\n",
       " '04': <gensim.models.keyedvectors.Vocab at 0x7f7ef5351ef0>,\n",
       " 'trillion': <gensim.models.keyedvectors.Vocab at 0x7f7f30a35048>,\n",
       " '46': <gensim.models.keyedvectors.Vocab at 0x7f7f30a35080>,\n",
       " 'are': <gensim.models.keyedvectors.Vocab at 0x7f7f30a350b8>,\n",
       " 'tropics': <gensim.models.keyedvectors.Vocab at 0x7f7f30a350f0>,\n",
       " 'or': <gensim.models.keyedvectors.Vocab at 0x7f7f30a35128>,\n",
       " 'sub': <gensim.models.keyedvectors.Vocab at 0x7f7f30a35160>,\n",
       " '20': <gensim.models.keyedvectors.Vocab at 0x7f7f30a35198>,\n",
       " 'temperate': <gensim.models.keyedvectors.Vocab at 0x7f7f30a351d0>,\n",
       " 'zones': <gensim.models.keyedvectors.Vocab at 0x7f7f30a35208>,\n",
       " '24': <gensim.models.keyedvectors.Vocab at 0x7f7f30a35240>,\n",
       " 'threes': <gensim.models.keyedvectors.Vocab at 0x7f7f30a35278>,\n",
       " 'coniferous': <gensim.models.keyedvectors.Vocab at 0x7f7f30a352b0>,\n",
       " 'boreal': <gensim.models.keyedvectors.Vocab at 0x7f7f30a352e8>,\n",
       " 'forests': <gensim.models.keyedvectors.Vocab at 0x7f7f30a35320>,\n",
       " 'there': <gensim.models.keyedvectors.Vocab at 0x7f7f30a35358>,\n",
       " 'about': <gensim.models.keyedvectors.Vocab at 0x7f7f30a35390>,\n",
       " '15': <gensim.models.keyedvectors.Vocab at 0x7f7f30a353c8>,\n",
       " 'billion': <gensim.models.keyedvectors.Vocab at 0x7f7f30a35400>,\n",
       " 'cut': <gensim.models.keyedvectors.Vocab at 0x7f7f30a35438>,\n",
       " 'down': <gensim.models.keyedvectors.Vocab at 0x7f7f30a35470>,\n",
       " 'annually': <gensim.models.keyedvectors.Vocab at 0x7f7f30a354a8>,\n",
       " '5': <gensim.models.keyedvectors.Vocab at 0x7f7f30a354e0>,\n",
       " 'planted': <gensim.models.keyedvectors.Vocab at 0x7f7f30a35518>}"
      ]
     },
     "execution_count": 22,
     "metadata": {},
     "output_type": "execute_result"
    }
   ],
   "source": [
    "model.wv.vocab"
   ]
  },
  {
   "cell_type": "code",
   "execution_count": 24,
   "metadata": {},
   "outputs": [
    {
     "name": "stdout",
     "output_type": "stream",
     "text": [
      "[-1.2768597e-03 -7.1223371e-04  1.0223117e-03  1.5205981e-03\n",
      " -2.2384352e-03 -2.9798578e-03 -1.8605036e-03 -1.0264586e-03\n",
      " -2.5701555e-03  1.7182934e-03  1.9989815e-03 -1.7163642e-03\n",
      "  1.4046020e-03 -1.6686457e-03  1.5335247e-03  1.1284564e-04\n",
      " -1.3564915e-03  5.3642801e-04 -1.0654157e-03  1.7774466e-03\n",
      "  9.3370193e-04 -2.5909168e-03 -2.6902456e-03 -2.1321683e-03\n",
      " -3.0849969e-03 -3.0688944e-04 -2.2166966e-04  1.4925805e-03\n",
      "  1.2327394e-03  1.4189122e-03 -2.9984657e-03 -7.5171993e-04\n",
      "  1.1296982e-05  7.2306560e-05 -1.7647851e-03 -2.3383209e-03\n",
      " -3.1964718e-03  2.9406094e-03 -2.4661848e-03 -1.1274045e-03\n",
      "  2.3485261e-03 -7.9430989e-04 -2.9581569e-03  8.2155387e-04\n",
      " -2.2819913e-03  4.8994576e-04 -2.6002242e-03 -1.1218421e-05\n",
      "  1.2522083e-03 -2.8052041e-03  1.2810659e-03 -7.7575067e-04\n",
      "  6.0303172e-04  5.7160185e-04  5.1968422e-04 -1.3120384e-03\n",
      " -7.9106650e-04 -2.5629820e-03 -2.9044622e-03  2.6129219e-03\n",
      "  3.1361757e-03  2.2932722e-03 -2.5443030e-03 -2.3333787e-03\n",
      " -1.0121641e-03  9.8581973e-04  1.4962849e-03  1.7127503e-03\n",
      " -2.2872163e-03 -1.9679870e-03 -2.6587921e-03  5.8009604e-04\n",
      "  3.2029275e-03 -1.3763622e-04  2.8343874e-03 -1.1507027e-03\n",
      " -2.4396174e-03  2.3847942e-03  2.0236862e-03  1.5330772e-03\n",
      " -8.6150118e-05 -2.2563098e-03  8.1089122e-04  2.6229715e-03\n",
      "  1.2657880e-03 -1.2899629e-03  2.8458729e-03  1.4320412e-03\n",
      "  2.4038090e-05  7.1694254e-04 -1.0645498e-03  2.0477255e-03\n",
      "  1.3679692e-03 -1.2348446e-03  2.9512779e-03  2.3134346e-03\n",
      "  1.5828470e-04  2.5982934e-03  1.7332315e-03 -1.3214487e-03\n",
      "  9.8476419e-04  3.2538373e-03  1.3563506e-03 -3.3052517e-03\n",
      " -1.2400985e-03  3.7289775e-04  5.9601443e-04  1.7648609e-03\n",
      " -2.0730507e-03 -1.4685841e-03  2.0000341e-03  3.2976929e-03\n",
      "  2.3463997e-03  6.2692816e-05  2.0120717e-03 -1.2984180e-03\n",
      " -9.3381590e-04 -3.7243214e-04  2.1172198e-03 -1.8069046e-03\n",
      " -2.8904600e-03  1.7156128e-03  3.6824431e-04 -2.2343441e-04\n",
      "  1.1691677e-03 -1.6676619e-04 -1.0131152e-03  3.1312183e-03\n",
      "  1.0220839e-03  4.4030574e-04 -2.3759846e-03  2.4951210e-03\n",
      " -6.9341622e-05 -1.6500084e-03 -7.8473438e-04 -2.5411986e-03\n",
      " -2.5493631e-03  1.8493881e-03 -3.2039792e-03 -1.9435615e-03\n",
      "  2.0688698e-03 -2.5133791e-03 -1.9589018e-03 -1.1577354e-03\n",
      " -1.1086519e-03  1.2425594e-03  1.6337528e-03  7.8872335e-04\n",
      " -3.0461478e-03  1.2738855e-03]\n"
     ]
    },
    {
     "name": "stderr",
     "output_type": "stream",
     "text": [
      "/Users/mohammedalhamid/anaconda3/lib/python3.6/site-packages/ipykernel_launcher.py:1: DeprecationWarning: Call to deprecated `__getitem__` (Method will be removed in 4.0.0, use self.wv.__getitem__() instead).\n",
      "  \"\"\"Entry point for launching an IPython kernel.\n"
     ]
    }
   ],
   "source": [
    "print(model['trees'])"
   ]
  },
  {
   "cell_type": "markdown",
   "metadata": {},
   "source": [
    "### <font color='blue'> Loading and using a pretrained model </font>"
   ]
  },
  {
   "cell_type": "raw",
   "metadata": {},
   "source": [
    "We will use a GloVe, an unsupervised learning algorithm that obtains the vector representations for works. \n",
    "To download the pretrained model, you can use the following link: \n",
    "https://nlp.stanford.edu/data/glove.6B.zip"
   ]
  },
  {
   "cell_type": "code",
   "execution_count": 41,
   "metadata": {},
   "outputs": [],
   "source": [
    "import numpy as np\n",
    "from scipy import spatial"
   ]
  },
  {
   "cell_type": "code",
   "execution_count": 30,
   "metadata": {},
   "outputs": [],
   "source": [
    "embeddings_dict = {}\n",
    "with open(\"models/glove.6B.50d.txt\", \"r\") as file:\n",
    "    for line in file: \n",
    "        values = line.split()\n",
    "        word = values[0]\n",
    "        vector = np.asarray(values[1:], \"float32\")\n",
    "        embeddings_dict[word] = vector"
   ]
  },
  {
   "cell_type": "code",
   "execution_count": 34,
   "metadata": {},
   "outputs": [
    {
     "name": "stdout",
     "output_type": "stream",
     "text": [
      "The length of the dictionary = 400000\n",
      "The length of each word vector= 50\n"
     ]
    }
   ],
   "source": [
    "print('The length of the dictionary =', len(embeddings_dict.keys()))\n",
    "print('The length of each word vector=', len(embeddings_dict[list(embeddings_dict.keys())[0]]))"
   ]
  },
  {
   "cell_type": "code",
   "execution_count": 43,
   "metadata": {},
   "outputs": [],
   "source": [
    "def find_closest_embeddings(embedding): \n",
    "    return sorted(embeddings_dict.keys(), key=lambda word: spatial.distance.euclidean(embeddings_dict[word], embedding))"
   ]
  },
  {
   "cell_type": "code",
   "execution_count": 44,
   "metadata": {},
   "outputs": [
    {
     "data": {
      "text/plain": [
       "['book',\n",
       " 'books',\n",
       " 'story',\n",
       " 'biography',\n",
       " 'novel',\n",
       " 'writing',\n",
       " 'wrote',\n",
       " 'author',\n",
       " 'titled',\n",
       " 'published']"
      ]
     },
     "execution_count": 44,
     "metadata": {},
     "output_type": "execute_result"
    }
   ],
   "source": [
    "word = 'book'\n",
    "find_closest_embeddings(embeddings_dict[word])[:10]"
   ]
  },
  {
   "cell_type": "code",
   "execution_count": 106,
   "metadata": {},
   "outputs": [
    {
     "data": {
      "text/plain": [
       "array([-0.0076543,  0.93456  , -0.73189  , -0.55162  ,  0.76977  ,\n",
       "        0.35925  , -1.1365   , -1.1632   ,  0.34214  ,  0.29145  ,\n",
       "       -0.8711   ,  0.9197   , -0.47069  , -0.22834  ,  1.4777   ,\n",
       "       -0.81714  , -0.17466  , -0.51093  , -0.28354  ,  0.23292  ,\n",
       "        0.71832  ,  0.23414  ,  0.49443  ,  0.35483  ,  0.76889  ,\n",
       "       -1.4374   , -1.7457   , -0.28994  , -0.10156  , -0.36959  ,\n",
       "        2.5502   , -1.0581   , -0.049416 , -0.25524  , -0.63303  ,\n",
       "        0.02671  , -0.18733  ,  0.20206  , -0.26288  , -0.41418  ,\n",
       "        0.83473  , -0.14227  , -0.28125  ,  0.098155 , -0.17096  ,\n",
       "        0.52408  ,  0.31851  , -0.089847 , -0.27223  , -0.0088736],\n",
       "      dtype=float32)"
      ]
     },
     "execution_count": 106,
     "metadata": {},
     "output_type": "execute_result"
    }
   ],
   "source": [
    "embeddings_dict[word]"
   ]
  },
  {
   "cell_type": "markdown",
   "metadata": {},
   "source": [
    "### <font color='blue'> Visualizing the vector space </font>"
   ]
  },
  {
   "cell_type": "code",
   "execution_count": 46,
   "metadata": {},
   "outputs": [],
   "source": [
    "import matplotlib.pyplot as plt\n",
    "from sklearn.manifold import TSNE"
   ]
  },
  {
   "cell_type": "code",
   "execution_count": 82,
   "metadata": {},
   "outputs": [
    {
     "data": {
      "image/png": "[encoded data removed]",
      "text/plain": [
       "<Figure size 432x288 with 1 Axes>"
      ]
     },
     "metadata": {
      "needs_background": "light"
     },
     "output_type": "display_data"
    }
   ],
   "source": [
    "tsne = TSNE(n_components=2, random_state=0)\n",
    "words =  list(embeddings_dict.keys())\n",
    "vectors = [embeddings_dict[word] for word in words]\n",
    "Y = tsne.fit_transform(vectors[:100])\n",
    "plt.scatter(Y[:, 0], Y[:, 1])\n",
    "for label, x, y in zip(words, Y[:, 0], Y[:, 1]):\n",
    "    plt.annotate(label, xy=(x, y), xytext=(0, 0), textcoords=\"offset points\")\n",
    "plt.show()"
   ]
  },
  {
   "cell_type": "markdown",
   "metadata": {},
   "source": [
    "### <font color='blue'> Measuring the vectors distance </font>"
   ]
  },
  {
   "cell_type": "code",
   "execution_count": 61,
   "metadata": {},
   "outputs": [],
   "source": [
    "import math"
   ]
  },
  {
   "cell_type": "markdown",
   "metadata": {},
   "source": [
    "#### Using Euclidean distance "
   ]
  },
  {
   "cell_type": "code",
   "execution_count": 66,
   "metadata": {},
   "outputs": [
    {
     "name": "stdout",
     "output_type": "stream",
     "text": [
      "5.506975291916892\n"
     ]
    }
   ],
   "source": [
    "# Example 1 \n",
    "x = embeddings_dict['book']\n",
    "y = embeddings_dict['notebook']\n",
    "print(math.sqrt(sum([(a - b) ** 2 for a, b in zip(x, y)])))"
   ]
  },
  {
   "cell_type": "code",
   "execution_count": 65,
   "metadata": {},
   "outputs": [
    {
     "name": "stdout",
     "output_type": "stream",
     "text": [
      "3.477756223276628\n"
     ]
    }
   ],
   "source": [
    "# Example 2\n",
    "x = embeddings_dict['king']\n",
    "y = embeddings_dict['queen']\n",
    "print(math.sqrt(sum([(a - b) ** 2 for a, b in zip(x, y)])))"
   ]
  },
  {
   "cell_type": "markdown",
   "metadata": {},
   "source": [
    "#### Using Cosine Similarity  "
   ]
  },
  {
   "cell_type": "code",
   "execution_count": 68,
   "metadata": {},
   "outputs": [],
   "source": [
    "from sklearn.metrics import pairwise"
   ]
  },
  {
   "cell_type": "code",
   "execution_count": 76,
   "metadata": {},
   "outputs": [
    {
     "data": {
      "text/plain": [
       "0.6004519462585449"
      ]
     },
     "execution_count": 76,
     "metadata": {},
     "output_type": "execute_result"
    }
   ],
   "source": [
    "x = embeddings_dict['book']\n",
    "y = embeddings_dict['notebook']\n",
    "spatial.distance.cosine(x,y)"
   ]
  },
  {
   "cell_type": "code",
   "execution_count": 75,
   "metadata": {},
   "outputs": [
    {
     "data": {
      "text/plain": [
       "0.2160956859588623"
      ]
     },
     "execution_count": 75,
     "metadata": {},
     "output_type": "execute_result"
    }
   ],
   "source": [
    "x = embeddings_dict['king']\n",
    "y = embeddings_dict['queen']\n",
    "spatial.distance.cosine(x,y)"
   ]
  },
  {
   "cell_type": "markdown",
   "metadata": {},
   "source": [
    "### Model Bias   "
   ]
  },
  {
   "cell_type": "code",
   "execution_count": 102,
   "metadata": {},
   "outputs": [
    {
     "name": "stdout",
     "output_type": "stream",
     "text": [
      "['old', 'man', 'whose', '22-year', '23-year', '21-year', '27-year', '32-year', 'another', 'turned']\n"
     ]
    }
   ],
   "source": [
    "print(find_closest_embeddings(embeddings_dict['old'])[0:10])"
   ]
  },
  {
   "cell_type": "code",
   "execution_count": 104,
   "metadata": {},
   "outputs": [
    {
     "name": "stdout",
     "output_type": "stream",
     "text": [
      "['expensive', 'inexpensive', 'cheap', 'cheaper', 'pricey', 'costly', 'priced', 'making', 'cost', 'afford']\n"
     ]
    }
   ],
   "source": [
    "print(find_closest_embeddings(embeddings_dict['expensive'])[0:10])"
   ]
  },
  {
   "cell_type": "code",
   "execution_count": null,
   "metadata": {},
   "outputs": [],
   "source": []
  }
 ],
 "metadata": {
  "kernelspec": {
   "display_name": "Python 3",
   "language": "python",
   "name": "python3"
  },
  "language_info": {
   "codemirror_mode": {
    "name": "ipython",
    "version": 3
   },
   "file_extension": ".py",
   "mimetype": "text/x-python",
   "name": "python",
   "nbconvert_exporter": "python",
   "pygments_lexer": "ipython3",
   "version": "3.6.9"
  }
 },
 "nbformat": 4,
 "nbformat_minor": 2
}
